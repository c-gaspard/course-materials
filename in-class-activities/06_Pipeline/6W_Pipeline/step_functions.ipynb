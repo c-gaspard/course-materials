{
 "cells": [
  {
   "attachments": {},
   "cell_type": "markdown",
   "id": "2f00d587",
   "metadata": {},
   "source": [
    "## Using Step Functions to Orchestrate Massively Parallel Batch Jobs\n",
    "\n",
    "You'll recall from our serverless demonstration a couple of weeks ago, that we can upload Lambda functions programmatically:"
   ]
  },
  {
   "cell_type": "code",
   "execution_count": 1,
   "id": "ba93331b",
   "metadata": {},
   "outputs": [],
   "source": [
    "import boto3\n",
    "import json\n",
    "import time\n",
    "import requests\n",
    "from concurrent.futures import ThreadPoolExecutor\n",
    "import matplotlib.pyplot as plt\n",
    "\n",
    "# Access our class IAM role, which allows Lambda\n",
    "# to interact with other AWS resources\n",
    "aws_lambda = boto3.client('lambda')\n",
    "iam_client = boto3.client('iam')\n",
    "role = iam_client.get_role(RoleName='LabRole')\n",
    "\n",
    "# Open zipped directory\n",
    "with open('hello_world.zip', 'rb') as f:\n",
    "    lambda_zip = f.read()\n",
    "\n",
    "try:\n",
    "    # If function hasn't yet been created, create it\n",
    "    response = aws_lambda.create_function(\n",
    "        FunctionName='hello_world_programmatic',\n",
    "        Runtime='python3.9',\n",
    "        Role=role['Role']['Arn'],\n",
    "        Handler='lambda_function.lambda_handler',\n",
    "        Code=dict(ZipFile=lambda_zip),\n",
    "        Timeout=300\n",
    "    )\n",
    "except aws_lambda.exceptions.ResourceConflictException:\n",
    "    # If function already exists, update it based on zip\n",
    "    # file contents\n",
    "    response = aws_lambda.update_function_code(\n",
    "        FunctionName='hello_world_programmatic',\n",
    "        ZipFile=lambda_zip\n",
    "        )\n",
    "\n",
    "# collect ARN for later use in Step Function state machine\n",
    "lambda_arn = response['FunctionArn']"
   ]
  },
  {
   "attachments": {},
   "cell_type": "markdown",
   "id": "f05afb8b",
   "metadata": {},
   "source": [
    "And that Lambda will scale out automatically to meet concurrent demand, meaning that it will automatically parallelize based on how many concurrent invocations it receives:"
   ]
  },
  {
   "cell_type": "code",
   "execution_count": 2,
   "id": "6fb04957",
   "metadata": {},
   "outputs": [
    {
     "data": {
      "text/plain": [
       "[3, 3, 3, 3, 3, 3, 3, 3, 3, 3]"
      ]
     },
     "execution_count": 2,
     "metadata": {},
     "output_type": "execute_result"
    }
   ],
   "source": [
    "# 1. write function to invoke our function for us and pass in data:\n",
    "def invoke_function(data):\n",
    "    r = aws_lambda.invoke(FunctionName='hello_world_programmatic',\n",
    "                          InvocationType='RequestResponse',\n",
    "                          Payload=json.dumps(data))\n",
    "    return json.loads(r['Payload'].read())\n",
    "\n",
    "# 2. Demo that lambda function will scale out if called concurrently on different threads locally\n",
    "test_data = {'key1': 1, 'key2': 2}\n",
    "with ThreadPoolExecutor(max_workers=10) as executor:\n",
    "    results = executor.map(invoke_function, [test_data for _ in range(10)])\n",
    "\n",
    "# 3. In AWS Console: confirm that we had concurrent executions (takes a few seconds to update)\n",
    "# Same results too:\n",
    "[result for result in results]"
   ]
  },
  {
   "attachments": {},
   "cell_type": "markdown",
   "id": "f52465c0",
   "metadata": {},
   "source": [
    "This capacity to scale based on concurrent demand makes Lambda functions great for event-driven workflows (which we talked about earlier in the week).\n",
    "\n",
    "For batch-job types of tasks, though, we should ideally be able to scale out to as many available Lambda workers as possible (i.e. thousands of concurrent function invocations on different segments of a dataset -- a serverless domain decomposition) and not be limited by our local resources.\n",
    "\n",
    "This is a where AWS [Step Functions](https://docs.aws.amazon.com/step-functions/latest/dg/welcome.html) can be very useful -- orchestrating large, embarrassingly parallel code execution across many Lambda workers with very little code (all we need to do is specify a model for how our Lambda Function should be invoked!). Specifically, we'll be using the [\"map\" state](https://docs.aws.amazon.com/step-functions/latest/dg/tutorial-creating-map-state-machine.html) to scatter input data to multiple Lambda workers at the same time and selecting the [express workflow Step Function option](https://docs.aws.amazon.com/step-functions/latest/dg/concepts-standard-vs-express.html) to a run our short job synchronously.\n",
    "\n",
    "(Demonstrate how to incorporate Lambda Function into Step Function workflow via graphical model in console after launching state machine via programmatic approach below)."
   ]
  },
  {
   "cell_type": "code",
   "execution_count": 3,
   "id": "89523b84",
   "metadata": {},
   "outputs": [],
   "source": [
    "sfn = boto3.client('stepfunctions')\n",
    "\n",
    "def make_def(lambda_arn):\n",
    "    definition = {\n",
    "      \"Comment\": \"My State Machine\",\n",
    "      \"StartAt\": \"Map\",\n",
    "      \"States\": {\n",
    "        \"Map\": {\n",
    "          \"Type\": \"Map\",\n",
    "          \"End\": True,\n",
    "          \"MaxConcurrency\": 10,\n",
    "          \"Iterator\": {\n",
    "            \"StartAt\": \"Lambda Invoke\",\n",
    "            \"States\": {\n",
    "              \"Lambda Invoke\": {\n",
    "                \"Type\": \"Task\",\n",
    "                \"Resource\": \"arn:aws:states:::lambda:invoke\",\n",
    "                \"OutputPath\": \"$.Payload\",\n",
    "                \"Parameters\": {\n",
    "                  \"Payload.$\": \"$\",\n",
    "                  \"FunctionName\": lambda_arn\n",
    "                },\n",
    "                \"Retry\": [\n",
    "                  {\n",
    "                    \"ErrorEquals\": [\n",
    "                      \"Lambda.ServiceException\",\n",
    "                      \"Lambda.AWSLambdaException\",\n",
    "                      \"Lambda.SdkClientException\",\n",
    "                      \"Lambda.TooManyRequestsException\",\n",
    "                      \"States.TaskFailed\",\n",
    "                      \"Lambda.Unknown\"\n",
    "                    ],\n",
    "                    \"IntervalSeconds\": 2,\n",
    "                    \"MaxAttempts\": 6,\n",
    "                    \"BackoffRate\": 2\n",
    "                  }\n",
    "                ],\n",
    "                \"End\": True\n",
    "              }\n",
    "            }\n",
    "          }\n",
    "        }\n",
    "      }\n",
    "    }\n",
    "    return definition\n",
    "    \n",
    "sf_def = make_def(lambda_arn)\n",
    "\n",
    "try:\n",
    "    response = sfn.create_state_machine(\n",
    "        name='hello_world_sm',\n",
    "        definition=json.dumps(sf_def),\n",
    "        roleArn=role['Role']['Arn'],\n",
    "        type='EXPRESS'\n",
    "    )\n",
    "except sfn.exceptions.StateMachineAlreadyExists:\n",
    "    response = sfn.list_state_machines()\n",
    "    state_machine_arn = [sm['stateMachineArn'] \n",
    "                         for sm in response['stateMachines'] \n",
    "                         if sm['name'] == 'hello_world_sm'][0]\n",
    "    response = sfn.update_state_machine(\n",
    "        stateMachineArn=state_machine_arn,\n",
    "        definition=json.dumps(sf_def),\n",
    "        roleArn=role['Role']['Arn']\n",
    "    )"
   ]
  },
  {
   "cell_type": "code",
   "execution_count": 4,
   "id": "74d449d6",
   "metadata": {},
   "outputs": [
    {
     "name": "stdout",
     "output_type": "stream",
     "text": [
      "{'stateMachines': [{'stateMachineArn': 'arn:aws:states:us-east-1:230488219088:stateMachine:hello_world_sm', 'name': 'hello_world_sm', 'type': 'EXPRESS', 'creationDate': datetime.datetime(2023, 4, 10, 22, 2, 39, 239000, tzinfo=tzlocal())}, {'stateMachineArn': 'arn:aws:states:us-east-1:230488219088:stateMachine:word_count_sm', 'name': 'word_count_sm', 'type': 'EXPRESS', 'creationDate': datetime.datetime(2023, 4, 10, 22, 24, 39, 669000, tzinfo=tzlocal())}], 'ResponseMetadata': {'RequestId': '5cf223a7-e6e5-40fe-83a4-01d62d0cad41', 'HTTPStatusCode': 200, 'HTTPHeaders': {'x-amzn-requestid': '5cf223a7-e6e5-40fe-83a4-01d62d0cad41', 'date': 'Mon, 24 Apr 2023 18:24:23 GMT', 'content-type': 'application/x-amz-json-1.0', 'content-length': '339'}, 'RetryAttempts': 0}}\n"
     ]
    }
   ],
   "source": [
    "response = sfn.list_state_machines()\n",
    "print(response)"
   ]
  },
  {
   "cell_type": "code",
   "execution_count": 5,
   "id": "30d11ea4",
   "metadata": {},
   "outputs": [],
   "source": [
    "# Get arn for Step Function state machine\n",
    "state_machine_arn = [sm['stateMachineArn'] \n",
    "                     for sm in response['stateMachines'] \n",
    "                     if sm['name'] == 'hello_world_sm'][0]\n",
    "\n",
    "# generate test data to pass as input\n",
    "# \"Map\" will automatically invoke a separate Lambda function\n",
    "# to process each dictionary in the list (10 concurrently)\n",
    "data = [{\"key1\": 1, \"key2\": 2} for _ in range(10)]"
   ]
  },
  {
   "cell_type": "markdown",
   "id": "0991d1d2",
   "metadata": {},
   "source": [
    "Once we have the identifier (ARN) for our Step Function state machine, we can pass in input data in JSON format. We have two options for execution -- synchronous execution (e.g. our notebook will wait for a response from AWS before moving on to the next cell), and asynchronous execution (which we might want to use if our Lambda functions were writing results to a cloud database and we don't need to wait for execution to finish before moving on with our code)."
   ]
  },
  {
   "cell_type": "code",
   "execution_count": 6,
   "id": "3e398718",
   "metadata": {},
   "outputs": [
    {
     "name": "stdout",
     "output_type": "stream",
     "text": [
      "[3,3,3,3,3,3,3,3,3,3,3,3,3,3,3,3,3,3,3,3,3,3,3,3,3,3,3,3,3,3,3,3,3,3,3,3,3,3,3,3,3,3,3,3,3,3,3,3,3,3]\n"
     ]
    }
   ],
   "source": [
    "# Synchronous Execution\n",
    "response = sfn.start_sync_execution(\n",
    "    stateMachineArn=state_machine_arn,\n",
    "    name='sync_test',\n",
    "    input=json.dumps(data)\n",
    ")\n",
    "\n",
    "print(response['output'])"
   ]
  },
  {
   "cell_type": "code",
   "execution_count": 7,
   "id": "73297b3c",
   "metadata": {},
   "outputs": [
    {
     "name": "stdout",
     "output_type": "stream",
     "text": [
      "{'executionArn': 'arn:aws:states:us-east-1:230488219088:express:hello_world_sm:async_test:f9323c5e-92ab-4ac3-adf7-40a513fa9851', 'startDate': datetime.datetime(2023, 4, 24, 13, 24, 29, 105000, tzinfo=tzlocal()), 'ResponseMetadata': {'RequestId': '712db404-3138-4988-9440-4b0832e6bce2', 'HTTPStatusCode': 200, 'HTTPHeaders': {'x-amzn-requestid': '712db404-3138-4988-9440-4b0832e6bce2', 'date': 'Mon, 24 Apr 2023 18:24:29 GMT', 'content-type': 'application/x-amz-json-1.0', 'content-length': '156'}, 'RetryAttempts': 0}}\n"
     ]
    }
   ],
   "source": [
    "# Async; perhaps writing results to db and don't need to wait for execution to finish before moving on with code\n",
    "response = sfn.start_execution(\n",
    "    stateMachineArn=state_machine_arn,\n",
    "    name='async_test',\n",
    "    input=json.dumps(data)\n",
    ")\n",
    "\n",
    "print(response) # no results returned for async option\n",
    "# Can go into logs in Cloud Watch and see execution results (Express SF workflow)\n",
    "# Note that Standard Step Function workflow allows us to audit results via Boto3)"
   ]
  },
  {
   "attachments": {},
   "cell_type": "markdown",
   "id": "d5aa98d5",
   "metadata": {},
   "source": [
    "## Using AWS Lambda to make HTTP Requests in Parallel\n",
    "\n",
    "A common task for computational social scientists is making HTTP requests to access and process web data (i.e. to make API requests and scrape web pages). It can be quite limiting to make these requests serially, though. When we do, the amount of data we are able to collect is limited both by our internet bandwidth and machine's ability to sequentially process the data.\n",
    "\n",
    "It would be much better to parallelize this workflow. Here, we'll take a look at how we could do this in a serverless fashion using the same workflow as above (Mapping Data to Lambda Functions via Step Functions). Specifically, we will call the [Google Books API](https://developers.google.com/books/docs/v1/getting_started) in parallel on a list of ISBNs (one API call can be constructed [like this](https://www.googleapis.com/books/v1/volumes?q=isbn:1906523371)), calculating the number of words used in the description for each book in our ISBN list (see workflow below). Word count is a simple metric (used here as a proof-of-concept), but it would also be possible to perform other Natural Language Processing routines using this same approach. Such a cloud workflow allows us to gather and process far greater amounts of data than would be otherwise possible on our local machines.\n",
    "\n",
    "![AWS Serverless Workflow](serverless_workflow.png)\n",
    "\n",
    "First, we'll need to load in a list of ISBNs (provided in this directory):"
   ]
  },
  {
   "cell_type": "code",
   "execution_count": 31,
   "id": "63dbd7e1",
   "metadata": {},
   "outputs": [],
   "source": [
    "with open('isbn.txt') as file:\n",
    "    isbn_list = [isbn.strip() for isbn in file]"
   ]
  },
  {
   "cell_type": "markdown",
   "id": "30b0f62a",
   "metadata": {},
   "source": [
    "Then, we can write a function that will take in a list of ISBNs and compute the the number of words in the description of the corresponding book:"
   ]
  },
  {
   "cell_type": "code",
   "execution_count": 32,
   "id": "6a1feec3",
   "metadata": {},
   "outputs": [],
   "source": [
    "def get_desc_wc(isbn_list):\n",
    "    '''\n",
    "    Takes in a list of ISBNs and returns a list of description\n",
    "    word counts corresponding to each ISBN (via the Google\n",
    "    Books API).\n",
    "    '''\n",
    "    url = \"https://www.googleapis.com/books/v1/volumes?q=isbn:\"\n",
    "    wc_list = []\n",
    "    for isbn in isbn_list:\n",
    "        r = requests.get(url + isbn)\n",
    "        data = r.json()\n",
    "        # Try to get description, but if there is none, set\n",
    "        # word count to be 0 for that book\n",
    "        try:\n",
    "            description = data['items'][0]['volumeInfo']['description']\n",
    "            wc_list.append(len(description.split()))\n",
    "        except KeyError:\n",
    "            wc_list.append(0)\n",
    "    return wc_list"
   ]
  },
  {
   "cell_type": "markdown",
   "id": "e1588f3c",
   "metadata": {},
   "source": [
    "We can then call our function and it will sequentially request information and calculate the description word count for each one of our ISBNs in the list:"
   ]
  },
  {
   "cell_type": "code",
   "execution_count": 33,
   "id": "cf44ae56",
   "metadata": {},
   "outputs": [
    {
     "name": "stdout",
     "output_type": "stream",
     "text": [
      "Time elapsed (in seconds) - Serial:  80.51322746276855\n"
     ]
    },
    {
     "data": {
      "image/png": "[encoded data removed]",
      "text/plain": [
       "<Figure size 432x288 with 1 Axes>"
      ]
     },
     "metadata": {
      "needs_background": "light"
     },
     "output_type": "display_data"
    }
   ],
   "source": [
    "start = time.time()\n",
    "wc_list = get_desc_wc(isbn_list)\n",
    "time_elapsed = time.time() - start\n",
    "\n",
    "print(\"Time elapsed (in seconds) - Serial: \", time_elapsed)\n",
    "\n",
    "plt.hist(wc_list);"
   ]
  },
  {
   "attachments": {},
   "cell_type": "markdown",
   "id": "d891c1e6",
   "metadata": {},
   "source": [
    "This is a bit slow (exactly how slow will be variable and heavily based on your internet connection!), though, and could benefit from parallelization. One way we can do this in a \"serverless\" fashion is by using AWS Step Functions to invoke many AWS Lambda functions to make these ISBN API calls (and calculate the description word count) in parallel. \n",
    "\n",
    "In a personal AWS account, you can make up to [3000 concurrent Lambda invocations in an initial burst, scaling by an additional 500 instances each minute that your code runs (until your account's concurrency limit is reached)](https://docs.aws.amazon.com/lambda/latest/dg/invocation-scaling.html). Note, though, that we're limited in our AWS Academy accounts in the number of concurrent Lambda invocations we can make. As a result, we won't be able to see the same scalability as we would see in a personal account, but you can at least get the idea of how this pipeline can be constructed.\n",
    "\n",
    "To make this work, we'll do the same thing we did above in our \"Hello World\" case -- using Step Functions to invoke multiple Lambda functions in parallel and then return the output of the executions synchronously to our local machine. \n",
    "\n",
    "For our Lambda function, we can write a `lambda_handler` that uses our API request function above like so (to be run on mini-batches of the overall isbn list):\n",
    "\n",
    "```python\n",
    "import requests\n",
    "\n",
    "def get_desc_wc(isbn_list):\n",
    "    '''\n",
    "    Takes in a list of ISBNs and returns a list of description\n",
    "    word counts corresponding to each ISBN (via the Google\n",
    "    Books API).\n",
    "    '''\n",
    "    url = \"https://www.googleapis.com/books/v1/volumes?q=isbn:\"\n",
    "\n",
    "    wc_list = []\n",
    "    for isbn in isbn_list:\n",
    "        r = requests.get(url + isbn)\n",
    "        data = r.json()\n",
    "        # Try to get description, but if there is none, set\n",
    "        # word count to be 0 for that book\n",
    "        try:\n",
    "            description = data['items'][0]['volumeInfo']['description']\n",
    "            wc_list.append(len(description.split()))\n",
    "        except KeyError:\n",
    "            wc_list.append(0)\n",
    "    return wc_list\n",
    "\n",
    "def lambda_handler(event, context):\n",
    "    wc = get_desc_wc(event['isbn'])\n",
    "    return wc\n",
    "```\n",
    "\n",
    "The only tricky thing with running this particular code as a Lambda function is that we are importing in the `requests` module in order to make HTTP requests. Such dependencies are not included by default in Lambda's Python runtimes.\n",
    "\n",
    "In order to work with dependencies, we'll need to package our Lambda Function with all of its dependencies (which you can do manually [like so](https://docs.aws.amazon.com/lambda/latest/dg/python-package.html#python-package-create-package-with-dependency) or by adding a [predefined \"layer\" defined by a 3rd-party](https://api.klayers.cloud//api/v2/p3.9/layers/latest/us-east-1/html) via its ARN in the Lambda dashboard). Note as well that [you also can work with Docker container images](https://docs.aws.amazon.com/lambda/latest/dg/python-image.html) (AWS provides up-to-date base images for Lambda) to test and upload your function to AWS. The Docker approach is not necessary for any of the assignments/exam in the class, but you may need to explore this option if you use this approach in your own research (i.e. if you're working with an especially big model, or large software not already installed on Lambda, our normal Lambda function creation workflow will not work).\n",
    "\n",
    "Using the manual workflow linked above, we have included a zipped version of the Lambda function (with its dependencies) in this directory (`word_count.zip`) that you can upload and use (**walk through directory structure live in class**). You'll need to do the same if you want to provide added functionality to your Lambda functions (e.g. `BeautifulSoup` for web-scraping, `numpy` or `pandas` for analytical workflows, etc.). We'll also need to increase our lambda timeout so that we have enough time for our program to run to perform longer running jobs (the default is a 3s timeout).\n",
    "\n",
    "Let's use `boto3` this time to create our Lambda Function from our zipped `word_count.zip` (to demonstrate that we can do this programmatically as well as in the console as we did earlier):"
   ]
  },
  {
   "cell_type": "code",
   "execution_count": 40,
   "id": "290b271f",
   "metadata": {},
   "outputs": [],
   "source": [
    "# Open our Zipped directory\n",
    "with open('word_count.zip', 'rb') as f:\n",
    "    lambda_zip = f.read()\n",
    "\n",
    "try:\n",
    "    # If function hasn't yet been created, create it\n",
    "    response = aws_lambda.create_function(\n",
    "        FunctionName='word_count',\n",
    "        Runtime='python3.9',\n",
    "        Role=role['Role']['Arn'],\n",
    "        Handler='lambda_function.lambda_handler',\n",
    "        Code=dict(ZipFile=lambda_zip),\n",
    "        Timeout=300\n",
    "    )\n",
    "except aws_lambda.exceptions.ResourceConflictException:\n",
    "    # If function already exists, update it based on zip\n",
    "    # file contents\n",
    "    response = aws_lambda.update_function_code(\n",
    "    FunctionName='word_count',\n",
    "    ZipFile=lambda_zip\n",
    "    )\n",
    "\n",
    "lambda_arn = response['FunctionArn']"
   ]
  },
  {
   "attachments": {},
   "cell_type": "markdown",
   "id": "6902974f",
   "metadata": {},
   "source": [
    "Once we have our function, we can incorporate it into a Step Function state machine, like we did in our Hello World example:"
   ]
  },
  {
   "cell_type": "code",
   "execution_count": 56,
   "id": "59521be0",
   "metadata": {},
   "outputs": [],
   "source": [
    "sf_def = make_def(lambda_arn)\n",
    "\n",
    "try:\n",
    "    response = sfn.create_state_machine(\n",
    "        name='word_count_sm',\n",
    "        definition=json.dumps(sf_def),\n",
    "        roleArn=role['Role']['Arn'],\n",
    "        type='EXPRESS'\n",
    "    )\n",
    "except sfn.exceptions.StateMachineAlreadyExists:\n",
    "    response = sfn.list_state_machines()\n",
    "    state_machine_arn = [sm['stateMachineArn'] \n",
    "                         for sm in response['stateMachines'] \n",
    "                         if sm['name'] == 'word_count_sm'][0]\n",
    "    response = sfn.update_state_machine(\n",
    "        stateMachineArn=state_machine_arn,\n",
    "        definition=json.dumps(sf_def),\n",
    "        roleArn=role['Role']['Arn']\n",
    "    )"
   ]
  },
  {
   "attachments": {},
   "cell_type": "markdown",
   "id": "7aea8719",
   "metadata": {},
   "source": [
    "Once our Step Function is set, we're ready to provide data that will be spread across our Lambda worker invocations. Remember, AWS Academy will only allow us to make 10 concurrent Lambda invocations (well below the 3000 concurrent requests we can make in a personal account), so we subdivide our list of ISBNs into 10 equal batches:"
   ]
  },
  {
   "cell_type": "code",
   "execution_count": 52,
   "id": "5f883865",
   "metadata": {},
   "outputs": [],
   "source": [
    "n = 500 // 10 # subdivide list of ISBNs into 10 equal batches\n",
    "isbn_batches = [{'isbn': isbn_list[i:i + n]} for i in range(0, len(isbn_list), n)]"
   ]
  },
  {
   "cell_type": "code",
   "execution_count": 55,
   "id": "a326b834",
   "metadata": {},
   "outputs": [
    {
     "name": "stdout",
     "output_type": "stream",
     "text": [
      "50 10\n"
     ]
    }
   ],
   "source": [
    "# 10 lists of 50 ISBNs\n",
    "print(len(isbn_batches), len(isbn_batches[0]['isbn']))"
   ]
  },
  {
   "cell_type": "markdown",
   "id": "0c2c522a",
   "metadata": {},
   "source": [
    "Now, let's get our Step Function state machine arn and pass in our data:"
   ]
  },
  {
   "cell_type": "code",
   "execution_count": 53,
   "id": "accd5994",
   "metadata": {},
   "outputs": [],
   "source": [
    "# Get arn for Step Function state machine\n",
    "response = sfn.list_state_machines()\n",
    "state_machine_arn = [sm['stateMachineArn']\n",
    "                     for sm in response['stateMachines'] \n",
    "                     if sm['name'] == 'word_count_sm'][0]\n",
    "\n",
    "# Spread ISBN batches across Lambda workers\n",
    "start = time.time()\n",
    "response = sfn.start_sync_execution(\n",
    "    stateMachineArn=state_machine_arn,\n",
    "    name='isbn_500',\n",
    "    input=json.dumps(isbn_batches)\n",
    ")\n",
    "time_elapsed = time.time() - start"
   ]
  },
  {
   "cell_type": "code",
   "execution_count": 54,
   "id": "ac88d799",
   "metadata": {},
   "outputs": [
    {
     "name": "stdout",
     "output_type": "stream",
     "text": [
      "4.21414041519165\n"
     ]
    }
   ],
   "source": [
    "print(time_elapsed)"
   ]
  },
  {
   "attachments": {},
   "cell_type": "markdown",
   "id": "4cbfd241",
   "metadata": {},
   "source": [
    "This is ~20x faster than the serial solution (meaning we can gather more data in the same amount of time, re: Gustafson's Law!). If we ran this same code on larger sets of ISBNs in a personal account, we would expect our compute time to remain similar, so long as we stay beneath the 3000 concurrent Lambda invocation maximum.\n",
    "\n",
    "So, we can quickly parallelize workflows in a serverless fashion using a combination of AWS Lambda and Step Functions. You can also create even more complicated workflows in Step Functions involving functional decomposition, multiple layers of Lambda function invocations, and more.\n",
    "\n",
    "One thing to note with the workflow above is that the payload size for inputs and outputs is not infinite (Step Functions will only accept inputs and outputs of size [262 KB or less](https://docs.aws.amazon.com/step-functions/latest/dg/avoid-exec-failures.html)). So, if you are working with really big inputs and/or outputs, you will want to input data from AWS cloud databases/distributed storage systems (e.g. providing the keys to the data you're referencing in the input JSON) and output data to a database/storage system within your Lambda function invocation as well. \n",
    "\n",
    "You can see an example of this workflow in the [replication materials for Clindaniel and Magnani 2024](https://github.com/jonclindaniel/digital-formation-processes) in the context of a high-frequency data collection task."
   ]
  }
 ],
 "metadata": {
  "kernelspec": {
   "display_name": "Python 3 (ipykernel)",
   "language": "python",
   "name": "python3"
  },
  "language_info": {
   "codemirror_mode": {
    "name": "ipython",
    "version": 3
   },
   "file_extension": ".py",
   "mimetype": "text/x-python",
   "name": "python",
   "nbconvert_exporter": "python",
   "pygments_lexer": "ipython3",
   "version": "3.9.19"
  }
 },
 "nbformat": 4,
 "nbformat_minor": 5
}

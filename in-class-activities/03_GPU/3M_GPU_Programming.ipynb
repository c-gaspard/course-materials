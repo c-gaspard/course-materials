{
  "cells": [
    {
      "cell_type": "markdown",
      "metadata": {
        "id": "5fCEDCU_qrC0"
      },
      "source": [
        "<a href=\"https://colab.research.google.com/drive/1_E7kjUJ6IU_NL2jzGjMIBx2dz4q_nvcz?usp=sharing\" target=\"_parent\"><img src=\"https://colab.research.google.com/assets/colab-badge.svg\" alt=\"Open In Colab\"/></a>\n",
        "\n",
        "# Introduction to GPU Programming with CuPy\n",
        "## Estimating Pi with Monte Carlo Simulation\n",
        "\n",
        "In this notebook, we'll walk through how we can use the `cupy` package -- with friendly `numpy`-style syntax -- to accelerate our embarrasingly parallel code using GPUs. Our goal today will be to a estimate a value -- $\\pi$ -- [using Monte Carlo Simulation](https://en.wikipedia.org/wiki/Monte_Carlo_method#Overview) (a classic task for demonstrating HPC speedups and applicable to any numerical estimation task in the social sciences).\n",
        "\n",
        "First taking a look at the hardware we have available to work with:"
      ]
    },
    {
      "cell_type": "code",
      "execution_count": 1,
      "metadata": {
        "colab": {
          "base_uri": "https://localhost:8080/"
        },
        "id": "aqQOzobAMTla",
        "outputId": "cf0c1232-7aee-4e35-d071-6259b0d88b0e"
      },
      "outputs": [
        {
          "name": "stdout",
          "output_type": "stream",
          "text": [
            "Fri Mar 29 23:34:00 2024       \n",
            "+---------------------------------------------------------------------------------------+\n",
            "| NVIDIA-SMI 535.104.05             Driver Version: 535.104.05   CUDA Version: 12.2     |\n",
            "|-----------------------------------------+----------------------+----------------------+\n",
            "| GPU  Name                 Persistence-M | Bus-Id        Disp.A | Volatile Uncorr. ECC |\n",
            "| Fan  Temp   Perf          Pwr:Usage/Cap |         Memory-Usage | GPU-Util  Compute M. |\n",
            "|                                         |                      |               MIG M. |\n",
            "|=========================================+======================+======================|\n",
            "|   0  Tesla T4                       Off | 00000000:00:04.0 Off |                    0 |\n",
            "| N/A   58C    P8              10W /  70W |      0MiB / 15360MiB |      0%      Default |\n",
            "|                                         |                      |                  N/A |\n",
            "+-----------------------------------------+----------------------+----------------------+\n",
            "                                                                                         \n",
            "+---------------------------------------------------------------------------------------+\n",
            "| Processes:                                                                            |\n",
            "|  GPU   GI   CI        PID   Type   Process name                            GPU Memory |\n",
            "|        ID   ID                                                             Usage      |\n",
            "|=======================================================================================|\n",
            "|  No running processes found                                                           |\n",
            "+---------------------------------------------------------------------------------------+\n"
          ]
        }
      ],
      "source": [
        "!nvidia-smi"
      ]
    },
    {
      "cell_type": "markdown",
      "metadata": {
        "id": "Z7_272Nn5NU7"
      },
      "source": [
        "Serially, we can solve this problem in `numpy` like so (generating 100k coordinates in a unit square and identifying whether they fall in a unit circle or not):"
      ]
    },
    {
      "cell_type": "code",
      "execution_count": 57,
      "metadata": {
        "id": "yEqGmSJ5nTeK"
      },
      "outputs": [],
      "source": [
        "# NumPy Pi Estimation with Monte Carlo Simulation\n",
        "import numpy as np\n",
        "import time\n",
        "\n",
        "n_runs = 10 ** 5"
      ]
    },
    {
      "cell_type": "code",
      "execution_count": 58,
      "metadata": {
        "colab": {
          "base_uri": "https://localhost:8080/"
        },
        "id": "T9yPcgxt7-bs",
        "outputId": "6920ce4c-e0a8-4bb3-b79a-9fc8ef024a1b"
      },
      "outputs": [
        {
          "name": "stdout",
          "output_type": "stream",
          "text": [
            "2.18 ms ± 41.4 µs per loop (mean ± std. dev. of 7 runs, 100 loops each)\n"
          ]
        }
      ],
      "source": [
        "%%timeit\n",
        "# Simulate Random Coordinates in Unit Square:\n",
        "ran = np.random.uniform(low=-1, high=1, size=(2, n_runs))\n",
        "\n",
        "# Identify Random Coordinates that fall within Unit Circle and count them\n",
        "result = ran[0] ** 2 + ran[1] ** 2 <= 1\n",
        "n_in_circle = np.sum(result)\n",
        "\n",
        "# Compute pi\n",
        "pi = 4 * n_in_circle / n_runs"
      ]
    },
    {
      "cell_type": "markdown",
      "metadata": {
        "id": "3KNBM2QC_0Ys"
      },
      "source": [
        "## GPU Programming with `CuPy`\n",
        "\n",
        "A useful approach for working with array data on GPUs is to use `CuPy`, which replicates much of the functionality of `numpy`, but on GPUs. You can take a look at [the documentation](https://docs.cupy.dev/en/stable/user_guide/basic.html) for more detail on all of the GPU functions that are available in CuPy. If you need to write a function that is not supported in CuPy, you can either [define a your own GPU kernel](https://docs.cupy.dev/en/stable/user_guide/kernel.html) (beyond the scope of the class, as this requires some exposure to underlying CUDA syntax). Note that [CuPy arrays are also communicable via mpi4py](https://docs.cupy.dev/en/stable/user_guide/interoperability.html#mpi4py) in a distributed GPU context. Let's import CuPy:\n"
      ]
    },
    {
      "cell_type": "code",
      "execution_count": 12,
      "metadata": {
        "id": "83C_SSyPiWoV"
      },
      "outputs": [],
      "source": [
        "import cupy as cp"
      ]
    },
    {
      "cell_type": "markdown",
      "metadata": {
        "id": "C8WySv_eC27e"
      },
      "source": [
        "To use CuPy on our GPU, we just need to copy our NumPy arrays over to our GPU as CuPy arrays. Then, we can perform array operations as if we working with NumPy as usual, but accelerated on our GPU. In order to work with the data again on our CPU, we will need to copy it back from the GPU Device to our CPU host. For instance, to compute pi, we might write the following:"
      ]
    },
    {
      "cell_type": "code",
      "execution_count": 65,
      "metadata": {
        "colab": {
          "base_uri": "https://localhost:8080/"
        },
        "id": "KFgl45uNlEUD",
        "outputId": "7ecd1c3e-6c64-4643-8387-e42e301e56d6"
      },
      "outputs": [
        {
          "name": "stdout",
          "output_type": "stream",
          "text": [
            "3.02 ms ± 108 µs per loop (mean ± std. dev. of 7 runs, 100 loops each)\n"
          ]
        }
      ],
      "source": [
        "%%timeit\n",
        "ran = np.random.uniform(low=-1, high =1, size=(2, n_runs)).astype(np.float64)\n",
        "x, y = ran[0], ran[1]\n",
        "\n",
        "# copy x and y to GPU Device\n",
        "x_dev, y_dev = cp.asarray(x), cp.asarray(y)\n",
        "\n",
        "# Perform Computation on GPU Device\n",
        "result_dev = x_dev ** 2 + y_dev ** 2 <= 1\n",
        "\n",
        "# Copy result from GPU Device to CPU Host\n",
        "result = result_dev.get() # alternatively: cp.asnumpy(result_dev)\n",
        "\n",
        "# Perform final computations on CPU Host\n",
        "n_in_circle = np.sum(result)\n",
        "pi = 4 * n_in_circle / n_runs"
      ]
    },
    {
      "cell_type": "markdown",
      "metadata": {
        "id": "mDbMYIDMC5Rs"
      },
      "source": [
        "This is actually slower than our standard NumPy CPU solution, though. Why?\n",
        "\n",
        "## Copying data between CPU Host and GPU Device\n",
        "\n",
        "One of the biggest bottlenecks when working with GPUs is the time it takes to copy data back and forth between the CPU Host and GPU Device. We can try to minimize this time, though, by running more operations on the GPU in an attempt to send and receive smaller communications from CPU-to-GPU and GPU-to-CPU.\n",
        "\n",
        "For instance, in this application, we can perform the summation on the GPU..."
      ]
    },
    {
      "cell_type": "code",
      "execution_count": 66,
      "metadata": {
        "colab": {
          "base_uri": "https://localhost:8080/"
        },
        "id": "06KXRiQptIyO",
        "outputId": "92897075-2e5c-487d-a670-f9421c1322fc"
      },
      "outputs": [
        {
          "name": "stdout",
          "output_type": "stream",
          "text": [
            "2.87 ms ± 60.1 µs per loop (mean ± std. dev. of 7 runs, 100 loops each)\n"
          ]
        }
      ],
      "source": [
        "%%timeit\n",
        "ran = np.random.uniform(low=-1, high =1, size=(2, n_runs)).astype(np.float64)\n",
        "x, y = ran[0], ran[1]\n",
        "\n",
        "# copy x and y to GPU Device\n",
        "x_dev, y_dev = cp.asarray(x), cp.asarray(y)\n",
        "\n",
        "# Perform Computation on GPU Device\n",
        "result_dev = x_dev ** 2 + y_dev ** 2 <= 1\n",
        "\n",
        "# Perform final computations on GPU Host\n",
        "n_in_circle_dev = cp.sum(result_dev)\n",
        "pi_dev = 4 * n_in_circle_dev / n_runs\n",
        "\n",
        "# Copy result from GPU Device to CPU Host\n",
        "pi = pi_dev.get()"
      ]
    },
    {
      "cell_type": "markdown",
      "metadata": {
        "id": "ARJkOIj7pOaq"
      },
      "source": [
        "We can also generate random numbers on our GPU in exactly the same way we did in `numpy` (but our data is now on our GPU and doesn't need to be communicated over):\n",
        "\n"
      ]
    },
    {
      "cell_type": "code",
      "execution_count": 67,
      "metadata": {
        "colab": {
          "base_uri": "https://localhost:8080/"
        },
        "id": "18MxzEW7CDFz",
        "outputId": "086c77d6-ae2b-4ddd-cdbc-723dc61e76f5"
      },
      "outputs": [
        {
          "name": "stdout",
          "output_type": "stream",
          "text": [
            "CPU times: user 1.15 ms, sys: 21 µs, total: 1.17 ms\n",
            "Wall time: 1.18 ms\n"
          ]
        }
      ],
      "source": [
        "%%time\n",
        "x_dev, y_dev = cp.random.uniform(low=-1, high=1, size=(2, n_runs), dtype=np.float64)\n",
        "\n",
        "# Perform Computation on GPU Device\n",
        "result_dev = x_dev ** 2 + y_dev ** 2 <= 1\n",
        "\n",
        "# Perform final computations on GPU Host\n",
        "n_in_circle_dev = cp.sum(result_dev)\n",
        "pi_dev = 4 * n_in_circle_dev / n_runs\n",
        "\n",
        "# Copy result from GPU Device to CPU Host\n",
        "pi = pi_dev.get()"
      ]
    },
    {
      "cell_type": "markdown",
      "metadata": {
        "id": "Ec8mGt-Yqujo"
      },
      "source": [
        "## Making it worth the cost to send to a GPU: Data Size and Arithmetic Complexity of Parallel Task\n",
        "\n",
        "GPUs are also best served when the tasks they are performing are on large data sizes, or of especially high arithmetic complexity. Otherwise, the cost of sending/receiving data from GPU-to-CPU may not be worth it.\n",
        "\n",
        "Let's increase the number of runs we are simulating here to 100 million and see how our CPU and GPU solutions compare now:"
      ]
    },
    {
      "cell_type": "code",
      "execution_count": 68,
      "metadata": {
        "id": "sJ2kh-HOrAOz"
      },
      "outputs": [],
      "source": [
        "n_runs = 10 ** 8"
      ]
    },
    {
      "cell_type": "code",
      "execution_count": 69,
      "metadata": {
        "colab": {
          "base_uri": "https://localhost:8080/"
        },
        "id": "Vdlkx5EQq-sL",
        "outputId": "35ac55cd-aa31-40c4-e21a-14a20272e21c"
      },
      "outputs": [
        {
          "name": "stdout",
          "output_type": "stream",
          "text": [
            "3.28 s ± 388 ms per loop (mean ± std. dev. of 7 runs, 1 loop each)\n"
          ]
        }
      ],
      "source": [
        "%%timeit\n",
        "# Simulate Random Coordinates in Unit Square:\n",
        "ran = np.random.uniform(low=-1, high=1, size=(2, n_runs))\n",
        "\n",
        "# Identify Random Coordinates that fall within Unit Circle and count them\n",
        "result = ran[0] ** 2 + ran[1] ** 2 <= 1\n",
        "n_in_circle = np.sum(result)\n",
        "\n",
        "# Compute pi\n",
        "pi = 4 * n_in_circle / n_runs"
      ]
    },
    {
      "cell_type": "code",
      "execution_count": 70,
      "metadata": {
        "colab": {
          "base_uri": "https://localhost:8080/"
        },
        "id": "nJYHmM_dqs8l",
        "outputId": "62817793-b947-4a8e-a344-ff01d9298d19"
      },
      "outputs": [
        {
          "name": "stdout",
          "output_type": "stream",
          "text": [
            "214 ms ± 771 µs per loop (mean ± std. dev. of 7 runs, 1 loop each)\n"
          ]
        }
      ],
      "source": [
        "%%timeit\n",
        "x_dev, y_dev = cp.random.uniform(low=-1, high=1, size=(2, n_runs), dtype=np.float64)\n",
        "\n",
        "# Perform Computation on GPU Device\n",
        "result_dev = x_dev ** 2 + y_dev ** 2 <= 1\n",
        "\n",
        "# Perform final computations on GPU Host\n",
        "n_in_circle_dev = cp.sum(result_dev)\n",
        "pi_dev = 4 * n_in_circle_dev / n_runs\n",
        "\n",
        "# Copy result from GPU Device to CPU Host\n",
        "pi = pi_dev.get()"
      ]
    },
    {
      "cell_type": "markdown",
      "metadata": {
        "id": "1qh3n7dKp70e"
      },
      "source": [
        "## Higher Precision than needed?\n",
        "\n",
        "Sometimes, the precision of our datatypes is higher than it needs to be. For instance, we've been performing simulations with double precision floats, but may not need this high of precision for our application. Let's see the impact of lowering our precision:"
      ]
    },
    {
      "cell_type": "code",
      "execution_count": 71,
      "metadata": {
        "colab": {
          "base_uri": "https://localhost:8080/"
        },
        "id": "VEajy091pN5j",
        "outputId": "0a37f3c1-f303-4010-9369-275c256df7ab"
      },
      "outputs": [
        {
          "name": "stdout",
          "output_type": "stream",
          "text": [
            "17.8 ms ± 12.5 µs per loop (mean ± std. dev. of 7 runs, 100 loops each)\n"
          ]
        }
      ],
      "source": [
        "%%timeit\n",
        "x_dev, y_dev = cp.random.uniform(low=-1, high=1, size=(2, n_runs), dtype=np.float32)\n",
        "\n",
        "# copy x and y to GPU Device\n",
        "x_dev, y_dev = cp.asarray(x), cp.asarray(y)\n",
        "\n",
        "# Perform Computation on GPU Device\n",
        "result_dev = x_dev ** 2 + y_dev ** 2 <= 1\n",
        "\n",
        "# Perform final computations on GPU Host\n",
        "n_in_circle_dev = cp.sum(result_dev)\n",
        "pi_dev = 4 * n_in_circle_dev / n_runs\n",
        "\n",
        "# Copy result from GPU Device to CPU Host\n",
        "pi = pi_dev.get()"
      ]
    },
    {
      "cell_type": "markdown",
      "metadata": {
        "id": "xuaibdXZDKfG"
      },
      "source": [
        "## Benchmarking GPU vs. CPU Usage\n",
        "\n",
        "CuPy also conveniently includes a benchmarking function that explicitly times how much work is being done on GPU versus CPU. We can see, for instance, that if we run the same code and `.get()` or result back on our CPU, there is a significant amount of time that is spent on CPU operations (reinforcing the need to minimize data transfer between CPU and GPU, as well as maximize the work that is done on the GPU):"
      ]
    },
    {
      "cell_type": "code",
      "execution_count": 55,
      "metadata": {
        "colab": {
          "base_uri": "https://localhost:8080/"
        },
        "id": "OhDbYq3WMZMv",
        "outputId": "dc3b9608-2db4-4467-f580-5c2c2b33de96"
      },
      "outputs": [
        {
          "data": {
            "text/plain": [
              "cupy_pi_est         :    CPU: 175379.738 us   +/- 859.394 (min: 174080.136 / max: 177087.083) us     GPU-0: 175424.187 us   +/- 858.840 (min: 174122.589 / max: 177125.946) us"
            ]
          },
          "execution_count": 55,
          "metadata": {},
          "output_type": "execute_result"
        }
      ],
      "source": [
        "from cupyx.profiler import benchmark\n",
        "\n",
        "def cupy_pi_est(x, y):\n",
        "  # Compute on GPU via CuPy arrays: ~175k us (microseconds)\n",
        "  result = x ** 2 + y ** 2 <= 1\n",
        "  n_in_circle = cp.sum(result)\n",
        "  pi = 4 * n_in_circle / n_runs\n",
        "\n",
        "  # Get pi back to host CPU from GPU: ~175k us (microseconds)\n",
        "  # half of time is spent just getting pi back to host CPU from GPU device\n",
        "  pi_cpu = pi.get()\n",
        "\n",
        "  return pi_cpu\n",
        "\n",
        "benchmark(cupy_pi_est, (x_dev, y_dev), n_repeat=10)"
      ]
    },
    {
      "cell_type": "markdown",
      "metadata": {
        "id": "AoFGszNhD3Ny"
      },
      "source": [
        "Whereas if we perform the same operation without bringing the estimated value back to the CPU via `.get()`, our GPU time remains the same, but there is quite a bit less time spent overall (since there is no data transfer time):"
      ]
    },
    {
      "cell_type": "code",
      "execution_count": 56,
      "metadata": {
        "colab": {
          "base_uri": "https://localhost:8080/"
        },
        "id": "9_xGgU1TDn5w",
        "outputId": "8baa6bc6-25d1-40f3-83a7-f5b4b56d8154"
      },
      "outputs": [
        {
          "data": {
            "text/plain": [
              "cupy_pi_est         :    CPU:   588.843 us   +/- 151.390 (min:   498.381 / max:   999.069) us     GPU-0: 176693.759 us   +/- 1237.829 (min: 174334.595 / max: 178280.441) us"
            ]
          },
          "execution_count": 56,
          "metadata": {},
          "output_type": "execute_result"
        }
      ],
      "source": [
        "def cupy_pi_est(x, y):\n",
        "  # Compute on GPU via CuPy arrays: ~175k us (microseconds)\n",
        "  result = x ** 2 + y ** 2 <= 1\n",
        "  n_in_circle = cp.sum(result)\n",
        "  pi = 4 * n_in_circle / n_runs\n",
        "\n",
        "  # don't send result back to CPU here for timing purposes\n",
        "  return pi\n",
        "\n",
        "benchmark(cupy_pi_est, (x_dev, y_dev), n_repeat=10)"
      ]
    }
  ],
  "metadata": {
    "accelerator": "GPU",
    "colab": {
      "provenance": []
    },
    "kernelspec": {
      "display_name": "Python 3",
      "name": "python3"
    }
  },
  "nbformat": 4,
  "nbformat_minor": 0
}
